{
 "cells": [
  {
   "cell_type": "code",
   "execution_count": 4,
   "metadata": {},
   "outputs": [],
   "source": [
    "# importing the required libraries\n",
    "from sklearn.preprocessing import StandardScaler\n",
    "from sklearn.model_selection import train_test_split \n",
    "from sklearn.metrics import accuracy_score\n",
    "import numpy as np\n",
    "import matplotlib.pyplot as plt \n",
    "import pandas as pd\n",
    "\n",
    "from sklearn.model_selection import KFold\n",
    "from sklearn.preprocessing import PolynomialFeatures"
   ]
  },
  {
   "cell_type": "code",
   "execution_count": 5,
   "metadata": {},
   "outputs": [
    {
     "data": {
      "text/html": [
       "<div>\n",
       "<style scoped>\n",
       "    .dataframe tbody tr th:only-of-type {\n",
       "        vertical-align: middle;\n",
       "    }\n",
       "\n",
       "    .dataframe tbody tr th {\n",
       "        vertical-align: top;\n",
       "    }\n",
       "\n",
       "    .dataframe thead th {\n",
       "        text-align: right;\n",
       "    }\n",
       "</style>\n",
       "<table border=\"1\" class=\"dataframe\">\n",
       "  <thead>\n",
       "    <tr style=\"text-align: right;\">\n",
       "      <th></th>\n",
       "      <th>having_IP_Address</th>\n",
       "      <th>URL_Length</th>\n",
       "      <th>Shortining_Service</th>\n",
       "      <th>having_At_Symbol</th>\n",
       "      <th>double_slash_redirecting</th>\n",
       "      <th>Prefix_Suffix</th>\n",
       "      <th>having_Sub_Domain</th>\n",
       "      <th>SSLfinal_State</th>\n",
       "      <th>Domain_registeration_length</th>\n",
       "      <th>port</th>\n",
       "      <th>...</th>\n",
       "      <th>Redirect</th>\n",
       "      <th>popUpWidnow</th>\n",
       "      <th>age_of_domain</th>\n",
       "      <th>DNSRecord</th>\n",
       "      <th>web_traffic</th>\n",
       "      <th>Page_Rank</th>\n",
       "      <th>Google_Index</th>\n",
       "      <th>Links_pointing_to_page</th>\n",
       "      <th>Statistical_report</th>\n",
       "      <th>Result</th>\n",
       "    </tr>\n",
       "  </thead>\n",
       "  <tbody>\n",
       "    <tr>\n",
       "      <th>0</th>\n",
       "      <td>-1</td>\n",
       "      <td>1</td>\n",
       "      <td>1</td>\n",
       "      <td>1</td>\n",
       "      <td>-1</td>\n",
       "      <td>-1</td>\n",
       "      <td>-1</td>\n",
       "      <td>-1</td>\n",
       "      <td>-1</td>\n",
       "      <td>1</td>\n",
       "      <td>...</td>\n",
       "      <td>0</td>\n",
       "      <td>1</td>\n",
       "      <td>-1</td>\n",
       "      <td>-1</td>\n",
       "      <td>-1</td>\n",
       "      <td>-1</td>\n",
       "      <td>1</td>\n",
       "      <td>1</td>\n",
       "      <td>-1</td>\n",
       "      <td>0</td>\n",
       "    </tr>\n",
       "    <tr>\n",
       "      <th>1</th>\n",
       "      <td>1</td>\n",
       "      <td>1</td>\n",
       "      <td>1</td>\n",
       "      <td>1</td>\n",
       "      <td>1</td>\n",
       "      <td>-1</td>\n",
       "      <td>0</td>\n",
       "      <td>1</td>\n",
       "      <td>-1</td>\n",
       "      <td>1</td>\n",
       "      <td>...</td>\n",
       "      <td>0</td>\n",
       "      <td>1</td>\n",
       "      <td>-1</td>\n",
       "      <td>-1</td>\n",
       "      <td>0</td>\n",
       "      <td>-1</td>\n",
       "      <td>1</td>\n",
       "      <td>1</td>\n",
       "      <td>1</td>\n",
       "      <td>0</td>\n",
       "    </tr>\n",
       "    <tr>\n",
       "      <th>2</th>\n",
       "      <td>1</td>\n",
       "      <td>0</td>\n",
       "      <td>1</td>\n",
       "      <td>1</td>\n",
       "      <td>1</td>\n",
       "      <td>-1</td>\n",
       "      <td>-1</td>\n",
       "      <td>-1</td>\n",
       "      <td>-1</td>\n",
       "      <td>1</td>\n",
       "      <td>...</td>\n",
       "      <td>0</td>\n",
       "      <td>1</td>\n",
       "      <td>1</td>\n",
       "      <td>-1</td>\n",
       "      <td>1</td>\n",
       "      <td>-1</td>\n",
       "      <td>1</td>\n",
       "      <td>0</td>\n",
       "      <td>-1</td>\n",
       "      <td>0</td>\n",
       "    </tr>\n",
       "    <tr>\n",
       "      <th>3</th>\n",
       "      <td>1</td>\n",
       "      <td>0</td>\n",
       "      <td>1</td>\n",
       "      <td>1</td>\n",
       "      <td>1</td>\n",
       "      <td>-1</td>\n",
       "      <td>-1</td>\n",
       "      <td>-1</td>\n",
       "      <td>1</td>\n",
       "      <td>1</td>\n",
       "      <td>...</td>\n",
       "      <td>0</td>\n",
       "      <td>1</td>\n",
       "      <td>-1</td>\n",
       "      <td>-1</td>\n",
       "      <td>1</td>\n",
       "      <td>-1</td>\n",
       "      <td>1</td>\n",
       "      <td>-1</td>\n",
       "      <td>1</td>\n",
       "      <td>0</td>\n",
       "    </tr>\n",
       "    <tr>\n",
       "      <th>4</th>\n",
       "      <td>1</td>\n",
       "      <td>0</td>\n",
       "      <td>-1</td>\n",
       "      <td>1</td>\n",
       "      <td>1</td>\n",
       "      <td>-1</td>\n",
       "      <td>1</td>\n",
       "      <td>1</td>\n",
       "      <td>-1</td>\n",
       "      <td>1</td>\n",
       "      <td>...</td>\n",
       "      <td>0</td>\n",
       "      <td>-1</td>\n",
       "      <td>-1</td>\n",
       "      <td>-1</td>\n",
       "      <td>0</td>\n",
       "      <td>-1</td>\n",
       "      <td>1</td>\n",
       "      <td>1</td>\n",
       "      <td>1</td>\n",
       "      <td>1</td>\n",
       "    </tr>\n",
       "  </tbody>\n",
       "</table>\n",
       "<p>5 rows × 27 columns</p>\n",
       "</div>"
      ],
      "text/plain": [
       "   having_IP_Address  URL_Length  Shortining_Service  having_At_Symbol   \n",
       "0                 -1           1                   1                 1  \\\n",
       "1                  1           1                   1                 1   \n",
       "2                  1           0                   1                 1   \n",
       "3                  1           0                   1                 1   \n",
       "4                  1           0                  -1                 1   \n",
       "\n",
       "   double_slash_redirecting  Prefix_Suffix  having_Sub_Domain  SSLfinal_State   \n",
       "0                        -1             -1                 -1              -1  \\\n",
       "1                         1             -1                  0               1   \n",
       "2                         1             -1                 -1              -1   \n",
       "3                         1             -1                 -1              -1   \n",
       "4                         1             -1                  1               1   \n",
       "\n",
       "   Domain_registeration_length  port  ...  Redirect  popUpWidnow   \n",
       "0                           -1     1  ...         0            1  \\\n",
       "1                           -1     1  ...         0            1   \n",
       "2                           -1     1  ...         0            1   \n",
       "3                            1     1  ...         0            1   \n",
       "4                           -1     1  ...         0           -1   \n",
       "\n",
       "   age_of_domain  DNSRecord  web_traffic  Page_Rank  Google_Index   \n",
       "0             -1         -1           -1         -1             1  \\\n",
       "1             -1         -1            0         -1             1   \n",
       "2              1         -1            1         -1             1   \n",
       "3             -1         -1            1         -1             1   \n",
       "4             -1         -1            0         -1             1   \n",
       "\n",
       "   Links_pointing_to_page  Statistical_report  Result  \n",
       "0                       1                  -1       0  \n",
       "1                       1                   1       0  \n",
       "2                       0                  -1       0  \n",
       "3                      -1                   1       0  \n",
       "4                       1                   1       1  \n",
       "\n",
       "[5 rows x 27 columns]"
      ]
     },
     "execution_count": 5,
     "metadata": {},
     "output_type": "execute_result"
    }
   ],
   "source": [
    "# Importing the dataset\n",
    "df = pd.read_csv(\"phishing_dataset.csv\")\n",
    "df.pop(\"id\")\n",
    "df.pop(\"RightClick\")\n",
    "df.pop(\"Iframe\")    \n",
    "df.pop(\"on_mouseover\")\n",
    "df.pop(\"Favicon\")\n",
    "df[\"Result\"].replace(-1, 0, inplace=True)\n",
    "df.head()"
   ]
  },
  {
   "cell_type": "code",
   "execution_count": 6,
   "metadata": {},
   "outputs": [],
   "source": [
    "# Separating the data into X and y\n",
    "logistic_df = df.copy(deep=True)\n",
    "X = df.iloc[:, :-1].values\n",
    "y = df.iloc[:, -1].values"
   ]
  },
  {
   "cell_type": "code",
   "execution_count": 7,
   "metadata": {},
   "outputs": [],
   "source": [
    "# Splitting the dataset into the Training set, Validation set and Test set\n",
    "X_train, X_test, y_train, y_test = train_test_split(X, y, test_size=0.2, random_state=1)\n",
    "\n",
    "y_2d_train= y_train.reshape(-1, 1)\n",
    "y_2d_test = y_test.reshape(-1, 1)\n",
    "\n",
    "# Feature Scaling\n",
    "scaler = StandardScaler()\n",
    "X_train = scaler.fit_transform(X_train)\n",
    "X_test = scaler.transform(X_test)"
   ]
  },
  {
   "cell_type": "code",
   "execution_count": 8,
   "metadata": {},
   "outputs": [],
   "source": [
    "ones = np.ones((X_train.shape[0], 1))\n",
    "X_train_1 = np.hstack((ones, X_train))"
   ]
  },
  {
   "cell_type": "code",
   "execution_count": 9,
   "metadata": {},
   "outputs": [],
   "source": [
    "def sigmoid(z):\n",
    "    return 1 / (1 + np.exp(-z))"
   ]
  },
  {
   "cell_type": "code",
   "execution_count": 10,
   "metadata": {},
   "outputs": [],
   "source": [
    "w_init = np.zeros((X_train_1.shape[1], 1))"
   ]
  },
  {
   "cell_type": "code",
   "execution_count": 11,
   "metadata": {},
   "outputs": [],
   "source": [
    "def hypothesis(X, w):\n",
    "    return sigmoid(np.dot(X, w))"
   ]
  },
  {
   "cell_type": "code",
   "execution_count": 12,
   "metadata": {},
   "outputs": [],
   "source": [
    "y_hat_init = hypothesis(X_train_1,w_init)"
   ]
  },
  {
   "cell_type": "code",
   "execution_count": 13,
   "metadata": {},
   "outputs": [],
   "source": [
    "def log_likelihood(X, y, w):\n",
    "    return np.sum(y * np.log(hypothesis(X, w)) + (1 - y) * np.log(1 - hypothesis(X, w)))"
   ]
  },
  {
   "cell_type": "code",
   "execution_count": 14,
   "metadata": {},
   "outputs": [],
   "source": [
    "def Gradient_Ascent(X, y, learning_rate, num_iters):\n",
    "    N = X.shape[0]\n",
    "    w = np.zeros((X.shape[1],1))\n",
    "    \n",
    "    # Gradient Ascent - local optimization technique\n",
    "    for _ in range(num_iters):\n",
    "        w = w + (learning_rate / N) * (X.T.dot(y - hypothesis(X, w)))\n",
    "\n",
    "    return w"
   ]
  },
  {
   "cell_type": "code",
   "execution_count": 15,
   "metadata": {},
   "outputs": [],
   "source": [
    "learning_rate = 0.03\n",
    "num_iters = 3000\n",
    "# Calculate w and likelihood values using Gradient_Ascent with X_train_1, y_2d_train\n",
    "w = Gradient_Ascent(X_train_1, y_2d_train, learning_rate, num_iters)"
   ]
  },
  {
   "cell_type": "code",
   "execution_count": 16,
   "metadata": {},
   "outputs": [],
   "source": [
    "def predict_class(X, w, t):\n",
    "    prediction = hypothesis(X, w)\n",
    "    return np.where(prediction >= t, 1, 0)"
   ]
  },
  {
   "cell_type": "code",
   "execution_count": 17,
   "metadata": {},
   "outputs": [],
   "source": [
    "ones = np.ones((X_test.shape[0], 1))\n",
    "X_test_1 = np.hstack((ones, X_test))\n",
    "y_hat = predict_class(X_test_1, w, 0.5)"
   ]
  },
  {
   "cell_type": "code",
   "execution_count": 18,
   "metadata": {},
   "outputs": [
    {
     "name": "stdout",
     "output_type": "stream",
     "text": [
      "Accuracy for Logistic Regression with no Regularization and no Polynomial Transformations: 92.49208502939847%\n"
     ]
    }
   ],
   "source": [
    "print(f\"Accuracy for Logistic Regression with no Regularization and no Polynomial Transformations: {accuracy_score(y_2d_test, y_hat)*100}%\")"
   ]
  },
  {
   "cell_type": "code",
   "execution_count": 19,
   "metadata": {},
   "outputs": [
    {
     "data": {
      "image/png": "[encoded data removed]",
      "text/plain": [
       "<Figure size 640x480 with 1 Axes>"
      ]
     },
     "metadata": {},
     "output_type": "display_data"
    },
    {
     "name": "stdout",
     "output_type": "stream",
     "text": [
      "Best degree of polynomial: 3\n"
     ]
    }
   ],
   "source": [
    "kfold = KFold(n_splits=5, shuffle=True, random_state=1)\n",
    "validation_scores = []\n",
    "\n",
    "for degree in range(1, 4):\n",
    "    avg_score = []\n",
    "    for train_index, val_index in kfold.split(X_train):\n",
    "        X_train_fold, X_val_fold = X_train[train_index], X_train[val_index]\n",
    "        y_train_fold, y_val_fold = y_train[train_index], y_train[val_index]\n",
    "\n",
    "        poly = PolynomialFeatures(degree)\n",
    "        X_train_poly = poly.fit_transform(X_train_fold)\n",
    "        X_val_poly = poly.transform(X_val_fold)\n",
    "\n",
    "        y_2d_train_fold = y_train_fold.reshape(-1, 1)\n",
    "        y_2d_val_fold = y_val_fold.reshape(-1, 1)\n",
    "\n",
    "        w = Gradient_Ascent(X_train_poly, y_2d_train_fold, learning_rate, num_iters)\n",
    "\n",
    "        y_hat = predict_class(X_val_poly, w, 0.5)\n",
    "        score = accuracy_score(y_2d_val_fold, y_hat)\n",
    "        avg_score.append(score)\n",
    "\n",
    "    validation_scores.append(np.mean(avg_score))\n",
    "\n",
    "plt.plot(range(1, 4), validation_scores)\n",
    "plt.xlabel(\"Degree\")\n",
    "plt.ylabel(\"Validation Accuracy\")\n",
    "plt.show()\n",
    "\n",
    "# Find the best degree of polynomial\n",
    "best_degree = np.argmax(validation_scores) + 1\n",
    "print(\"Best degree of polynomial:\", best_degree)"
   ]
  },
  {
   "cell_type": "code",
   "execution_count": 20,
   "metadata": {},
   "outputs": [
    {
     "name": "stdout",
     "output_type": "stream",
     "text": [
      "Accuracy with 3rd degree polynomial on test data: 96.11035730438715%\n"
     ]
    }
   ],
   "source": [
    "poly = PolynomialFeatures(3)\n",
    "\n",
    "X_train_poly = poly.fit_transform(X_train)\n",
    "X_test_poly = poly.transform(X_test)\n",
    "\n",
    "w = Gradient_Ascent(X_train_poly, y_2d_train, learning_rate, num_iters)\n",
    "\n",
    "y_hat = predict_class(X_test_poly, w, 0.5)\n",
    "score = accuracy_score(y_2d_test, y_hat)\n",
    "print(f\"Accuracy with 3rd degree polynomial on test data: {score*100}%\")"
   ]
  },
  {
   "attachments": {},
   "cell_type": "markdown",
   "metadata": {},
   "source": [
    "The best degree of polynomial transformations is the 3rd degree. From degree 2 to 3, there was no major increase in accuracy with the validation set and the amount of features were increasing rapidly, and as a result, computation took too long and was just not viable to train with our machines. \n",
    "\n",
    "Continuing forward, we will test regularization techniques to see if we can boost accuracy. We will utilize KFold Validation again to obtain hyperparameters for our regularization. \n",
    "\n",
    "We will also continue with the dataset with a 3rd degree polynomial transformation."
   ]
  },
  {
   "cell_type": "code",
   "execution_count": 21,
   "metadata": {},
   "outputs": [],
   "source": [
    "def Gradient_Ascent_L1_Regularization(X, y, learning_rate, num_iters, lambda1):\n",
    "    N = X.shape[0]\n",
    "    w = np.zeros((X.shape[1],1))\n",
    "    \n",
    "    # Gradient Ascent - local optimization technique\n",
    "    for _ in range(num_iters):\n",
    "        w = w + (learning_rate / N) * (X.T.dot(y - hypothesis(X, w)))\n",
    "        w += (lambda1 / N) * np.sign(w)\n",
    "\n",
    "    return w\n",
    "\n",
    "def Gradient_Ascent_L2_Regularization(X, y, learning_rate, num_iters, lambda2):\n",
    "    N = X.shape[0]\n",
    "    w = np.zeros((X.shape[1],1))\n",
    "    \n",
    "    # Gradient Ascent - local optimization technique\n",
    "    for _ in range(num_iters):\n",
    "        w = w + (learning_rate / N) * (X.T.dot(y - hypothesis(X, w)))\n",
    "        w += (lambda2 / N) * w\n",
    "\n",
    "    return w"
   ]
  },
  {
   "cell_type": "code",
   "execution_count": 22,
   "metadata": {},
   "outputs": [],
   "source": [
    "poly = PolynomialFeatures(3)\n",
    "\n",
    "X_train_poly = poly.fit_transform(X_train)\n",
    "X_test_poly = poly.transform(X_test)"
   ]
  },
  {
   "cell_type": "code",
   "execution_count": 23,
   "metadata": {},
   "outputs": [
    {
     "data": {
      "image/png": "[encoded data removed]",
      "text/plain": [
       "<Figure size 640x480 with 1 Axes>"
      ]
     },
     "metadata": {},
     "output_type": "display_data"
    },
    {
     "name": "stdout",
     "output_type": "stream",
     "text": [
      "Best lambda for L1 regularization: 0.001\n"
     ]
    }
   ],
   "source": [
    "kfold = KFold(n_splits=5, shuffle=True, random_state=1)\n",
    "validation_scores = []\n",
    "\n",
    "for lambda1 in [0.001, 0.01, 0.1]:\n",
    "    avg_score = []\n",
    "    for train_index, val_index in kfold.split(X_train_poly):\n",
    "        X_train_fold, X_val_fold = X_train_poly[train_index], X_train_poly[val_index]\n",
    "        y_train_fold, y_val_fold = y_train[train_index], y_train[val_index]\n",
    "\n",
    "        y_2d_train_fold = y_train_fold.reshape(-1, 1)\n",
    "        y_2d_val_fold = y_val_fold.reshape(-1, 1)\n",
    "\n",
    "        w = Gradient_Ascent_L1_Regularization(X_train_fold, y_2d_train_fold, learning_rate, num_iters, lambda1)\n",
    "\n",
    "        y_hat = predict_class(X_val_fold, w, 0.5)\n",
    "        score = accuracy_score(y_2d_val_fold, y_hat)\n",
    "        avg_score.append(score)\n",
    "    validation_scores.append(np.mean(avg_score))\n",
    "\n",
    "plt.plot([0.001, 0.01, 0.1], validation_scores)\n",
    "plt.xlabel(\"Lambda\")\n",
    "plt.ylabel(\"Validation Accuracy\")\n",
    "plt.show()\n",
    "\n",
    "# Find the best lambda for L1 regularization\n",
    "best_lambda1 = [0.001, 0.01, 0.1][np.argmax(validation_scores)]\n",
    "print(\"Best lambda for L1 regularization:\", best_lambda1)"
   ]
  },
  {
   "cell_type": "code",
   "execution_count": 24,
   "metadata": {},
   "outputs": [
    {
     "name": "stdout",
     "output_type": "stream",
     "text": [
      "Accuracy with 3rd degree polynomial and L1 regularization with lambda=0.01 on test data: 96.11035730438715%\n"
     ]
    }
   ],
   "source": [
    "w = Gradient_Ascent_L1_Regularization(X_train_poly, y_2d_train, learning_rate, num_iters, best_lambda1)\n",
    "\n",
    "y_hat = predict_class(X_test_poly, w, 0.5)\n",
    "score = accuracy_score(y_2d_test, y_hat)\n",
    "print(f\"Accuracy with 3rd degree polynomial and L1 regularization with lambda=0.01 on test data: {score*100}%\")"
   ]
  },
  {
   "cell_type": "code",
   "execution_count": 25,
   "metadata": {},
   "outputs": [
    {
     "data": {
      "image/png": "[encoded data removed]",
      "text/plain": [
       "<Figure size 640x480 with 1 Axes>"
      ]
     },
     "metadata": {},
     "output_type": "display_data"
    },
    {
     "name": "stdout",
     "output_type": "stream",
     "text": [
      "Best lambda for L2 regularization: 0.001\n"
     ]
    }
   ],
   "source": [
    "kfold = KFold(n_splits=5, shuffle=True, random_state=1)\n",
    "validation_scores = []\n",
    "\n",
    "for lambda2 in [0.001, 0.01, 0.1]:\n",
    "    avg_score = []\n",
    "    for train_index, val_index in kfold.split(X_train_poly):\n",
    "        X_train_fold, X_val_fold = X_train_poly[train_index], X_train_poly[val_index]\n",
    "        y_train_fold, y_val_fold = y_train[train_index], y_train[val_index]\n",
    "\n",
    "        y_2d_train_fold = y_train_fold.reshape(-1, 1)\n",
    "        y_2d_val_fold = y_val_fold.reshape(-1, 1)\n",
    "\n",
    "        w = Gradient_Ascent_L2_Regularization(X_train_fold, y_2d_train_fold, learning_rate, num_iters, lambda2)\n",
    "\n",
    "        y_hat = predict_class(X_val_fold, w, 0.5)\n",
    "        score = accuracy_score(y_2d_val_fold, y_hat)\n",
    "        avg_score.append(score)\n",
    "    validation_scores.append(np.mean(avg_score))\n",
    "\n",
    "plt.plot([0.001, 0.01, 0.1], validation_scores)\n",
    "plt.xlabel(\"Lambda\")\n",
    "plt.ylabel(\"Validation Accuracy\")\n",
    "plt.show()\n",
    "\n",
    "# Find the best lambda for L1 regularization\n",
    "best_lambda1 = [0.001, 0.01, 0.1][np.argmax(validation_scores)]\n",
    "print(\"Best lambda for L2 regularization:\", best_lambda1)"
   ]
  },
  {
   "cell_type": "code",
   "execution_count": 26,
   "metadata": {},
   "outputs": [
    {
     "name": "stdout",
     "output_type": "stream",
     "text": [
      "Accuracy with 3rd degree polynomial and L2 regularization with lambda=0.1 on test data: 96.11035730438715%\n"
     ]
    }
   ],
   "source": [
    "w = Gradient_Ascent_L2_Regularization(X_train_poly, y_2d_train, learning_rate, num_iters, best_lambda1)\n",
    "\n",
    "y_hat = predict_class(X_test_poly, w, 0.5)\n",
    "score = accuracy_score(y_2d_test, y_hat)\n",
    "print(f\"Accuracy with 3rd degree polynomial and L2 regularization with lambda=0.1 on test data: {score*100}%\")"
   ]
  },
  {
   "attachments": {},
   "cell_type": "markdown",
   "metadata": {},
   "source": [
    "With L1 Regularization: 0.01 is the best lambda value for our model\n",
    "\n",
    "With L2 Regularization: 0.1 is the best lambda value for our model\n",
    "\n",
    "L1 Regularization Accuracy on Test Data: 96.20081411126186%\n",
    "\n",
    "L2 Regularization Accuracy on Test Data: 96.20081411126186%"
   ]
  },
  {
   "attachments": {},
   "cell_type": "markdown",
   "metadata": {},
   "source": [
    "Results:\n",
    "\n",
    "Our modeled performed best with a 3rd degree polynomial transformation. Utilizing regularization with the 3rd degree polynomial transformation did not improve the model any significant amount.\n",
    "\n",
    "Conclusion: The best accuracy we were able to obtain is 96.20081411126186%."
   ]
  }
 ],
 "metadata": {
  "kernelspec": {
   "display_name": "Python 3",
   "language": "python",
   "name": "python3"
  },
  "language_info": {
   "codemirror_mode": {
    "name": "ipython",
    "version": 3
   },
   "file_extension": ".py",
   "mimetype": "text/x-python",
   "name": "python",
   "nbconvert_exporter": "python",
   "pygments_lexer": "ipython3",
   "version": "3.9.16"
  },
  "orig_nbformat": 4
 },
 "nbformat": 4,
 "nbformat_minor": 2
}
