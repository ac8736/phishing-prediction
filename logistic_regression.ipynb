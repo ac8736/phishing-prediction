{
 "cells": [
  {
   "cell_type": "code",
   "execution_count": 2,
   "metadata": {},
   "outputs": [],
   "source": [
    "# importing the required libraries\n",
    "from sklearn.preprocessing import StandardScaler\n",
    "from sklearn.model_selection import train_test_split \n",
    "from sklearn.metrics import accuracy_score\n",
    "import numpy as np\n",
    "import matplotlib.pyplot as plt \n",
    "import pandas as pd\n",
    "\n",
    "from sklearn.model_selection import KFold\n",
    "from sklearn.preprocessing import PolynomialFeatures"
   ]
  },
  {
   "cell_type": "code",
   "execution_count": 3,
   "metadata": {},
   "outputs": [
    {
     "ename": "KeyError",
     "evalue": "'OnMouseOver'",
     "output_type": "error",
     "traceback": [
      "\u001b[1;31m---------------------------------------------------------------------------\u001b[0m",
      "\u001b[1;31mKeyError\u001b[0m                                  Traceback (most recent call last)",
      "File \u001b[1;32mc:\\Users\\hossa\\anaconda3\\envs\\ML\\lib\\site-packages\\pandas\\core\\indexes\\base.py:3652\u001b[0m, in \u001b[0;36mIndex.get_loc\u001b[1;34m(self, key)\u001b[0m\n\u001b[0;32m   3651\u001b[0m \u001b[39mtry\u001b[39;00m:\n\u001b[1;32m-> 3652\u001b[0m     \u001b[39mreturn\u001b[39;00m \u001b[39mself\u001b[39;49m\u001b[39m.\u001b[39;49m_engine\u001b[39m.\u001b[39;49mget_loc(casted_key)\n\u001b[0;32m   3653\u001b[0m \u001b[39mexcept\u001b[39;00m \u001b[39mKeyError\u001b[39;00m \u001b[39mas\u001b[39;00m err:\n",
      "File \u001b[1;32mc:\\Users\\hossa\\anaconda3\\envs\\ML\\lib\\site-packages\\pandas\\_libs\\index.pyx:147\u001b[0m, in \u001b[0;36mpandas._libs.index.IndexEngine.get_loc\u001b[1;34m()\u001b[0m\n",
      "File \u001b[1;32mc:\\Users\\hossa\\anaconda3\\envs\\ML\\lib\\site-packages\\pandas\\_libs\\index.pyx:176\u001b[0m, in \u001b[0;36mpandas._libs.index.IndexEngine.get_loc\u001b[1;34m()\u001b[0m\n",
      "File \u001b[1;32mpandas\\_libs\\hashtable_class_helper.pxi:7080\u001b[0m, in \u001b[0;36mpandas._libs.hashtable.PyObjectHashTable.get_item\u001b[1;34m()\u001b[0m\n",
      "File \u001b[1;32mpandas\\_libs\\hashtable_class_helper.pxi:7088\u001b[0m, in \u001b[0;36mpandas._libs.hashtable.PyObjectHashTable.get_item\u001b[1;34m()\u001b[0m\n",
      "\u001b[1;31mKeyError\u001b[0m: 'OnMouseOver'",
      "\nThe above exception was the direct cause of the following exception:\n",
      "\u001b[1;31mKeyError\u001b[0m                                  Traceback (most recent call last)",
      "Cell \u001b[1;32mIn[3], line 6\u001b[0m\n\u001b[0;32m      4\u001b[0m df\u001b[39m.\u001b[39mpop(\u001b[39m\"\u001b[39m\u001b[39mRightClick\u001b[39m\u001b[39m\"\u001b[39m)\n\u001b[0;32m      5\u001b[0m df\u001b[39m.\u001b[39mpop(\u001b[39m\"\u001b[39m\u001b[39mIframe\u001b[39m\u001b[39m\"\u001b[39m)\n\u001b[1;32m----> 6\u001b[0m df\u001b[39m.\u001b[39;49mpop(\u001b[39m\"\u001b[39;49m\u001b[39mOnMouseOver\u001b[39;49m\u001b[39m\"\u001b[39;49m)\n\u001b[0;32m      7\u001b[0m df\u001b[39m.\u001b[39mpop(\u001b[39m\"\u001b[39m\u001b[39mFavicon\u001b[39m\u001b[39m\"\u001b[39m)\n\u001b[0;32m      8\u001b[0m df[\u001b[39m\"\u001b[39m\u001b[39mResult\u001b[39m\u001b[39m\"\u001b[39m]\u001b[39m.\u001b[39mreplace(\u001b[39m-\u001b[39m\u001b[39m1\u001b[39m, \u001b[39m0\u001b[39m, inplace\u001b[39m=\u001b[39m\u001b[39mTrue\u001b[39;00m)\n",
      "File \u001b[1;32mc:\\Users\\hossa\\anaconda3\\envs\\ML\\lib\\site-packages\\pandas\\core\\frame.py:5551\u001b[0m, in \u001b[0;36mDataFrame.pop\u001b[1;34m(self, item)\u001b[0m\n\u001b[0;32m   5510\u001b[0m \u001b[39mdef\u001b[39;00m \u001b[39mpop\u001b[39m(\u001b[39mself\u001b[39m, item: Hashable) \u001b[39m-\u001b[39m\u001b[39m>\u001b[39m Series:\n\u001b[0;32m   5511\u001b[0m \u001b[39m    \u001b[39m\u001b[39m\"\"\"\u001b[39;00m\n\u001b[0;32m   5512\u001b[0m \u001b[39m    Return item and drop from frame. Raise KeyError if not found.\u001b[39;00m\n\u001b[0;32m   5513\u001b[0m \n\u001b[1;32m   (...)\u001b[0m\n\u001b[0;32m   5549\u001b[0m \u001b[39m    3  monkey        NaN\u001b[39;00m\n\u001b[0;32m   5550\u001b[0m \u001b[39m    \"\"\"\u001b[39;00m\n\u001b[1;32m-> 5551\u001b[0m     \u001b[39mreturn\u001b[39;00m \u001b[39msuper\u001b[39;49m()\u001b[39m.\u001b[39;49mpop(item\u001b[39m=\u001b[39;49mitem)\n",
      "File \u001b[1;32mc:\\Users\\hossa\\anaconda3\\envs\\ML\\lib\\site-packages\\pandas\\core\\generic.py:853\u001b[0m, in \u001b[0;36mNDFrame.pop\u001b[1;34m(self, item)\u001b[0m\n\u001b[0;32m    852\u001b[0m \u001b[39mdef\u001b[39;00m \u001b[39mpop\u001b[39m(\u001b[39mself\u001b[39m, item: Hashable) \u001b[39m-\u001b[39m\u001b[39m>\u001b[39m Series \u001b[39m|\u001b[39m Any:\n\u001b[1;32m--> 853\u001b[0m     result \u001b[39m=\u001b[39m \u001b[39mself\u001b[39;49m[item]\n\u001b[0;32m    854\u001b[0m     \u001b[39mdel\u001b[39;00m \u001b[39mself\u001b[39m[item]\n\u001b[0;32m    856\u001b[0m     \u001b[39mreturn\u001b[39;00m result\n",
      "File \u001b[1;32mc:\\Users\\hossa\\anaconda3\\envs\\ML\\lib\\site-packages\\pandas\\core\\frame.py:3760\u001b[0m, in \u001b[0;36mDataFrame.__getitem__\u001b[1;34m(self, key)\u001b[0m\n\u001b[0;32m   3758\u001b[0m \u001b[39mif\u001b[39;00m \u001b[39mself\u001b[39m\u001b[39m.\u001b[39mcolumns\u001b[39m.\u001b[39mnlevels \u001b[39m>\u001b[39m \u001b[39m1\u001b[39m:\n\u001b[0;32m   3759\u001b[0m     \u001b[39mreturn\u001b[39;00m \u001b[39mself\u001b[39m\u001b[39m.\u001b[39m_getitem_multilevel(key)\n\u001b[1;32m-> 3760\u001b[0m indexer \u001b[39m=\u001b[39m \u001b[39mself\u001b[39;49m\u001b[39m.\u001b[39;49mcolumns\u001b[39m.\u001b[39;49mget_loc(key)\n\u001b[0;32m   3761\u001b[0m \u001b[39mif\u001b[39;00m is_integer(indexer):\n\u001b[0;32m   3762\u001b[0m     indexer \u001b[39m=\u001b[39m [indexer]\n",
      "File \u001b[1;32mc:\\Users\\hossa\\anaconda3\\envs\\ML\\lib\\site-packages\\pandas\\core\\indexes\\base.py:3654\u001b[0m, in \u001b[0;36mIndex.get_loc\u001b[1;34m(self, key)\u001b[0m\n\u001b[0;32m   3652\u001b[0m     \u001b[39mreturn\u001b[39;00m \u001b[39mself\u001b[39m\u001b[39m.\u001b[39m_engine\u001b[39m.\u001b[39mget_loc(casted_key)\n\u001b[0;32m   3653\u001b[0m \u001b[39mexcept\u001b[39;00m \u001b[39mKeyError\u001b[39;00m \u001b[39mas\u001b[39;00m err:\n\u001b[1;32m-> 3654\u001b[0m     \u001b[39mraise\u001b[39;00m \u001b[39mKeyError\u001b[39;00m(key) \u001b[39mfrom\u001b[39;00m \u001b[39merr\u001b[39;00m\n\u001b[0;32m   3655\u001b[0m \u001b[39mexcept\u001b[39;00m \u001b[39mTypeError\u001b[39;00m:\n\u001b[0;32m   3656\u001b[0m     \u001b[39m# If we have a listlike key, _check_indexing_error will raise\u001b[39;00m\n\u001b[0;32m   3657\u001b[0m     \u001b[39m#  InvalidIndexError. Otherwise we fall through and re-raise\u001b[39;00m\n\u001b[0;32m   3658\u001b[0m     \u001b[39m#  the TypeError.\u001b[39;00m\n\u001b[0;32m   3659\u001b[0m     \u001b[39mself\u001b[39m\u001b[39m.\u001b[39m_check_indexing_error(key)\n",
      "\u001b[1;31mKeyError\u001b[0m: 'OnMouseOver'"
     ]
    }
   ],
   "source": [
    "# Importing the dataset\n",
    "df = pd.read_csv(\"phishing_dataset.csv\")\n",
    "df.pop(\"id\")\n",
    "df.pop(\"RightClick\")\n",
    "df.pop(\"Iframe\")\n",
    "df.pop(\"on_mouseover\")\n",
    "df.pop(\"Favicon\")\n",
    "df[\"Result\"].replace(-1, 0, inplace=True)\n",
    "df.head()"
   ]
  },
  {
   "cell_type": "code",
   "execution_count": 5,
   "metadata": {},
   "outputs": [],
   "source": [
    "# Separating the data into X and y\n",
    "logistic_df = df.copy(deep=True)\n",
    "X = df.iloc[:, :-1].values\n",
    "y = df.iloc[:, -1].values"
   ]
  },
  {
   "cell_type": "code",
   "execution_count": 6,
   "metadata": {},
   "outputs": [],
   "source": [
    "# Splitting the dataset into the Training set, Validation set and Test set\n",
    "X_train, X_test, y_train, y_test = train_test_split(X, y, test_size=0.2, random_state=1)\n",
    "\n",
    "y_2d_train= y_train.reshape(-1, 1)\n",
    "y_2d_test = y_test.reshape(-1, 1)\n",
    "\n",
    "# Feature Scaling\n",
    "scaler = StandardScaler()\n",
    "X_train = scaler.fit_transform(X_train)\n",
    "X_test = scaler.transform(X_test)"
   ]
  },
  {
   "cell_type": "code",
   "execution_count": 7,
   "metadata": {},
   "outputs": [],
   "source": [
    "ones = np.ones((X_train.shape[0], 1))\n",
    "X_train_1 = np.hstack((ones, X_train))"
   ]
  },
  {
   "cell_type": "code",
   "execution_count": 8,
   "metadata": {},
   "outputs": [],
   "source": [
    "def sigmoid(z):\n",
    "    return 1 / (1 + np.exp(-z))"
   ]
  },
  {
   "cell_type": "code",
   "execution_count": 9,
   "metadata": {},
   "outputs": [],
   "source": [
    "w_init = np.zeros((X_train_1.shape[1], 1))"
   ]
  },
  {
   "cell_type": "code",
   "execution_count": 10,
   "metadata": {},
   "outputs": [],
   "source": [
    "def hypothesis(X, w):\n",
    "    return sigmoid(np.dot(X, w))"
   ]
  },
  {
   "cell_type": "code",
   "execution_count": 11,
   "metadata": {},
   "outputs": [],
   "source": [
    "y_hat_init = hypothesis(X_train_1,w_init)"
   ]
  },
  {
   "cell_type": "code",
   "execution_count": 12,
   "metadata": {},
   "outputs": [],
   "source": [
    "def log_likelihood(X, y, w):\n",
    "    return np.sum(y * np.log(hypothesis(X, w)) + (1 - y) * np.log(1 - hypothesis(X, w)))"
   ]
  },
  {
   "cell_type": "code",
   "execution_count": 13,
   "metadata": {},
   "outputs": [],
   "source": [
    "def Gradient_Ascent(X, y, learning_rate, num_iters):\n",
    "    N = X.shape[0]\n",
    "    w = np.zeros((X.shape[1],1))\n",
    "    \n",
    "    # Gradient Ascent - local optimization technique\n",
    "    for _ in range(num_iters):\n",
    "        w = w + (learning_rate / N) * (X.T.dot(y - hypothesis(X, w)))\n",
    "\n",
    "    return w"
   ]
  },
  {
   "cell_type": "code",
   "execution_count": 14,
   "metadata": {},
   "outputs": [],
   "source": [
    "learning_rate = 0.03\n",
    "num_iters = 3000\n",
    "# Calculate w and likelihood values using Gradient_Ascent with X_train_1, y_2d_train\n",
    "w = Gradient_Ascent(X_train_1, y_2d_train, learning_rate, num_iters)"
   ]
  },
  {
   "cell_type": "code",
   "execution_count": 15,
   "metadata": {},
   "outputs": [],
   "source": [
    "def predict_class(X, w, t):\n",
    "    prediction = hypothesis(X, w)\n",
    "    return np.where(prediction >= t, 1, 0)"
   ]
  },
  {
   "cell_type": "code",
   "execution_count": 16,
   "metadata": {},
   "outputs": [],
   "source": [
    "ones = np.ones((X_test.shape[0], 1))\n",
    "X_test_1 = np.hstack((ones, X_test))\n",
    "y_hat = predict_class(X_test_1, w, 0.5)"
   ]
  },
  {
   "cell_type": "code",
   "execution_count": 17,
   "metadata": {},
   "outputs": [
    {
     "name": "stdout",
     "output_type": "stream",
     "text": [
      "Accuracy for Logistic Regression with no Regularization and no Polynomial Transformations: 92.40162822252374%\n"
     ]
    }
   ],
   "source": [
    "print(f\"Accuracy for Logistic Regression with no Regularization and no Polynomial Transformations: {accuracy_score(y_2d_test, y_hat)*100}%\")"
   ]
  },
  {
   "cell_type": "code",
   "execution_count": 18,
   "metadata": {},
   "outputs": [
    {
     "data": {
      "image/png": "[encoded data removed]",
      "text/plain": [
       "<Figure size 640x480 with 1 Axes>"
      ]
     },
     "metadata": {},
     "output_type": "display_data"
    },
    {
     "name": "stdout",
     "output_type": "stream",
     "text": [
      "Best degree of polynomial: 3\n"
     ]
    }
   ],
   "source": [
    "kfold = KFold(n_splits=5, shuffle=True, random_state=1)\n",
    "validation_scores = []\n",
    "\n",
    "for degree in range(1, 4):\n",
    "    avg_score = []\n",
    "    for train_index, val_index in kfold.split(X_train):\n",
    "        X_train_fold, X_val_fold = X_train[train_index], X_train[val_index]\n",
    "        y_train_fold, y_val_fold = y_train[train_index], y_train[val_index]\n",
    "\n",
    "        poly = PolynomialFeatures(degree)\n",
    "        X_train_poly = poly.fit_transform(X_train_fold)\n",
    "        X_val_poly = poly.transform(X_val_fold)\n",
    "\n",
    "        y_2d_train_fold = y_train_fold.reshape(-1, 1)\n",
    "        y_2d_val_fold = y_val_fold.reshape(-1, 1)\n",
    "\n",
    "        w = Gradient_Ascent(X_train_poly, y_2d_train_fold, learning_rate, num_iters)\n",
    "\n",
    "        y_hat = predict_class(X_val_poly, w, 0.5)\n",
    "        score = accuracy_score(y_2d_val_fold, y_hat)\n",
    "        avg_score.append(score)\n",
    "\n",
    "    validation_scores.append(np.mean(avg_score))\n",
    "\n",
    "plt.plot(range(1, 4), validation_scores)\n",
    "plt.xlabel(\"Degree\")\n",
    "plt.ylabel(\"Validation Accuracy\")\n",
    "plt.show()\n",
    "\n",
    "# Find the best degree of polynomial\n",
    "best_degree = np.argmax(validation_scores) + 1\n",
    "print(\"Best degree of polynomial:\", best_degree)"
   ]
  },
  {
   "cell_type": "code",
   "execution_count": 19,
   "metadata": {},
   "outputs": [
    {
     "name": "stdout",
     "output_type": "stream",
     "text": [
      "Accuracy with 3rd degree polynomial on test data: 96.24604251469923%\n"
     ]
    }
   ],
   "source": [
    "poly = PolynomialFeatures(3)\n",
    "\n",
    "X_train_poly = poly.fit_transform(X_train)\n",
    "X_test_poly = poly.transform(X_test)\n",
    "\n",
    "w = Gradient_Ascent(X_train_poly, y_2d_train, learning_rate, num_iters)\n",
    "\n",
    "y_hat = predict_class(X_test_poly, w, 0.5)\n",
    "score = accuracy_score(y_2d_test, y_hat)\n",
    "print(f\"Accuracy with 3rd degree polynomial on test data: {score*100}%\")"
   ]
  },
  {
   "attachments": {},
   "cell_type": "markdown",
   "metadata": {},
   "source": [
    "The best degree of polynomial transformations is the 3rd degree. From degree 2 to 3, there was no major increase in accuracy with the validation set and the amount of features were increasing rapidly, and as a result, computation took too long and was just not viable to train with our machines. \n",
    "\n",
    "Continuing forward, we will test regularization techniques to see if we can boost accuracy. We will utilize KFold Validation again to obtain hyperparameters for our regularization. \n",
    "\n",
    "We will also continue with the dataset with a 3rd degree polynomial transformation."
   ]
  },
  {
   "cell_type": "code",
   "execution_count": 20,
   "metadata": {},
   "outputs": [],
   "source": [
    "def Gradient_Ascent_L1_Regularization(X, y, learning_rate, num_iters, lambda1):\n",
    "    N = X.shape[0]\n",
    "    w = np.zeros((X.shape[1],1))\n",
    "    \n",
    "    # Gradient Ascent - local optimization technique\n",
    "    for _ in range(num_iters):\n",
    "        w = w + (learning_rate / N) * (X.T.dot(y - hypothesis(X, w)))\n",
    "        w += (lambda1 / N) * np.sign(w)\n",
    "\n",
    "    return w\n",
    "\n",
    "def Gradient_Ascent_L2_Regularization(X, y, learning_rate, num_iters, lambda2):\n",
    "    N = X.shape[0]\n",
    "    w = np.zeros((X.shape[1],1))\n",
    "    \n",
    "    # Gradient Ascent - local optimization technique\n",
    "    for _ in range(num_iters):\n",
    "        w = w + (learning_rate / N) * (X.T.dot(y - hypothesis(X, w)))\n",
    "        w += (lambda2 / N) * w\n",
    "\n",
    "    return w"
   ]
  },
  {
   "cell_type": "code",
   "execution_count": 21,
   "metadata": {},
   "outputs": [],
   "source": [
    "poly = PolynomialFeatures(3)\n",
    "\n",
    "X_train_poly = poly.fit_transform(X_train)\n",
    "X_test_poly = poly.transform(X_test)"
   ]
  },
  {
   "cell_type": "code",
   "execution_count": 22,
   "metadata": {},
   "outputs": [],
   "source": [
    "kfold = KFold(n_splits=5, shuffle=True, random_state=1)\n",
    "validation_scores = []\n",
    "\n",
    "for lambda1 in [0.001, 0.01, 0.1]:\n",
    "    avg_score = []\n",
    "    for train_index, val_index in kfold.split(X_train_poly):\n",
    "        X_train_fold, X_val_fold = X_train_poly[train_index], X_train_poly[val_index]\n",
    "        y_train_fold, y_val_fold = y_train[train_index], y_train[val_index]\n",
    "\n",
    "        y_2d_train_fold = y_train_fold.reshape(-1, 1)\n",
    "        y_2d_val_fold = y_val_fold.reshape(-1, 1)\n",
    "\n",
    "        w = Gradient_Ascent_L1_Regularization(X_train_fold, y_2d_train_fold, learning_rate, num_iters, lambda1)\n",
    "\n",
    "        y_hat = predict_class(X_val_fold, w, 0.5)\n",
    "        score = accuracy_score(y_2d_val_fold, y_hat)\n",
    "        avg_score.append(score)\n",
    "    validation_scores.append(np.mean(avg_score))\n",
    "\n",
    "plt.plot([0.001, 0.01, 0.1], validation_scores)\n",
    "plt.xlabel(\"Lambda\")\n",
    "plt.ylabel(\"Validation Accuracy\")\n",
    "plt.show()\n",
    "\n",
    "# Find the best lambda for L1 regularization\n",
    "best_lambda1 = [0.001, 0.01, 0.1][np.argmax(validation_scores)]\n",
    "print(\"Best lambda for L1 regularization:\", best_lambda1)"
   ]
  },
  {
   "cell_type": "code",
   "execution_count": null,
   "metadata": {},
   "outputs": [
    {
     "name": "stdout",
     "output_type": "stream",
     "text": [
      "Accuracy with 3rd degree polynomial and L1 regularization with lambda=0.01 on test data: 96.20081411126186%\n"
     ]
    }
   ],
   "source": [
    "w = Gradient_Ascent_L1_Regularization(X_train_poly, y_2d_train, learning_rate, num_iters, best_lambda1)\n",
    "\n",
    "y_hat = predict_class(X_test_poly, w, 0.5)\n",
    "score = accuracy_score(y_2d_test, y_hat)\n",
    "print(f\"Accuracy with 3rd degree polynomial and L1 regularization with lambda=0.01 on test data: {score*100}%\")"
   ]
  },
  {
   "cell_type": "code",
   "execution_count": null,
   "metadata": {},
   "outputs": [
    {
     "data": {
      "image/png": "[encoded data removed]",
      "text/plain": [
       "<Figure size 432x288 with 1 Axes>"
      ]
     },
     "metadata": {
      "needs_background": "light"
     },
     "output_type": "display_data"
    },
    {
     "name": "stdout",
     "output_type": "stream",
     "text": [
      "Best lambda for L2 regularization: 0.1\n"
     ]
    }
   ],
   "source": [
    "kfold = KFold(n_splits=5, shuffle=True, random_state=1)\n",
    "validation_scores = []\n",
    "\n",
    "for lambda2 in [0.001, 0.01, 0.1]:\n",
    "    avg_score = []\n",
    "    for train_index, val_index in kfold.split(X_train_poly):\n",
    "        X_train_fold, X_val_fold = X_train_poly[train_index], X_train_poly[val_index]\n",
    "        y_train_fold, y_val_fold = y_train[train_index], y_train[val_index]\n",
    "\n",
    "        y_2d_train_fold = y_train_fold.reshape(-1, 1)\n",
    "        y_2d_val_fold = y_val_fold.reshape(-1, 1)\n",
    "\n",
    "        w = Gradient_Ascent_L2_Regularization(X_train_fold, y_2d_train_fold, learning_rate, num_iters, lambda2)\n",
    "\n",
    "        y_hat = predict_class(X_val_fold, w, 0.5)\n",
    "        score = accuracy_score(y_2d_val_fold, y_hat)\n",
    "        avg_score.append(score)\n",
    "    validation_scores.append(np.mean(avg_score))\n",
    "\n",
    "plt.plot([0.001, 0.01, 0.1], validation_scores)\n",
    "plt.xlabel(\"Lambda\")\n",
    "plt.ylabel(\"Validation Accuracy\")\n",
    "plt.show()\n",
    "\n",
    "# Find the best lambda for L1 regularization\n",
    "best_lambda1 = [0.001, 0.01, 0.1][np.argmax(validation_scores)]\n",
    "print(\"Best lambda for L2 regularization:\", best_lambda1)"
   ]
  },
  {
   "cell_type": "code",
   "execution_count": null,
   "metadata": {},
   "outputs": [
    {
     "name": "stdout",
     "output_type": "stream",
     "text": [
      "Accuracy with 3rd degree polynomial and L2 regularization with lambda=0.1 on test data: 96.20081411126186%\n"
     ]
    }
   ],
   "source": [
    "w = Gradient_Ascent_L2_Regularization(X_train_poly, y_2d_train, learning_rate, num_iters, best_lambda1)\n",
    "\n",
    "y_hat = predict_class(X_test_poly, w, 0.5)\n",
    "score = accuracy_score(y_2d_test, y_hat)\n",
    "print(f\"Accuracy with 3rd degree polynomial and L2 regularization with lambda=0.1 on test data: {score*100}%\")"
   ]
  },
  {
   "attachments": {},
   "cell_type": "markdown",
   "metadata": {},
   "source": [
    "With L1 Regularization: 0.01 is the best lambda value for our model\n",
    "\n",
    "With L2 Regularization: 0.1 is the best lambda value for our model\n",
    "\n",
    "L1 Regularization Accuracy on Test Data: 96.20081411126186%\n",
    "\n",
    "L2 Regularization Accuracy on Test Data: 96.20081411126186%"
   ]
  },
  {
   "attachments": {},
   "cell_type": "markdown",
   "metadata": {},
   "source": [
    "Results:\n",
    "\n",
    "Our modeled performed best with a 3rd degree polynomial transformation. Utilizing regularization with the 3rd degree polynomial transformation did not improve the model any significant amount.\n",
    "\n",
    "Conclusion: The best accuracy we were able to obtain is 96.20081411126186%."
   ]
  }
 ],
 "metadata": {
  "kernelspec": {
   "display_name": "Python 3",
   "language": "python",
   "name": "python3"
  },
  "language_info": {
   "codemirror_mode": {
    "name": "ipython",
    "version": 3
   },
   "file_extension": ".py",
   "mimetype": "text/x-python",
   "name": "python",
   "nbconvert_exporter": "python",
   "pygments_lexer": "ipython3",
   "version": "3.9.16"
  },
  "orig_nbformat": 4
 },
 "nbformat": 4,
 "nbformat_minor": 2
}
